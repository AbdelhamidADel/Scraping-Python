{
 "cells": [
  {
   "cell_type": "code",
   "execution_count": 8,
   "id": "3c1919a5",
   "metadata": {},
   "outputs": [],
   "source": [
    "import selenium\n",
    "from selenium import webdriver\n",
    "from bs4 import BeautifulSoup as b4\n",
    "import requests\n",
    "import urllib.request"
   ]
  },
  {
   "cell_type": "code",
   "execution_count": 2,
   "id": "be214c1a",
   "metadata": {},
   "outputs": [
    {
     "name": "stdout",
     "output_type": "stream",
     "text": [
      "please enter user name: AbdelhamidADel\n"
     ]
    }
   ],
   "source": [
    "User=input(\"please enter user name: \")\n",
    "url=f\"https://github.com/{User}\"\n",
    "web=webdriver.Chrome()\n",
    "web.get(url)"
   ]
  },
  {
   "cell_type": "code",
   "execution_count": 3,
   "id": "6b374b88",
   "metadata": {},
   "outputs": [],
   "source": [
    "r = requests.get(url)\n",
    "soup = b4(r.content, 'html.parser')"
   ]
  },
  {
   "cell_type": "code",
   "execution_count": 6,
   "id": "fc463b66",
   "metadata": {},
   "outputs": [
    {
     "data": {
      "text/plain": [
       "'https://avatars.githubusercontent.com/u/104658866?v=4'"
      ]
     },
     "execution_count": 6,
     "metadata": {},
     "output_type": "execute_result"
    }
   ],
   "source": [
    "img=soup.find(\"img\",{\"class\":\"avatar avatar-user width-full border color-bg-default\"})[\"src\"]\n",
    "img"
   ]
  },
  {
   "cell_type": "code",
   "execution_count": 9,
   "id": "e731d536",
   "metadata": {},
   "outputs": [
    {
     "data": {
      "text/plain": [
       "('AbdelhamidADel Avatar.jpg', <http.client.HTTPMessage at 0x1c76ade3430>)"
      ]
     },
     "execution_count": 9,
     "metadata": {},
     "output_type": "execute_result"
    }
   ],
   "source": [
    "save_name = f'{User} Avatar.jpg'\n",
    "urllib.request.urlretrieve(img, save_name)"
   ]
  },
  {
   "cell_type": "code",
   "execution_count": 12,
   "id": "6726a0df",
   "metadata": {},
   "outputs": [
    {
     "data": {
      "text/plain": [
       "'\\n I’m interested in Python\\n I’m currently learning Data Science Field , Data Analysis\\n Looking to collaborate/work on any data science related projects.\\n\\n\\n\\nEgypt,Cairo.\\n\\n\\n\\n\\nabdelhamidadel67@gmail.com\\n\\n\\n'"
      ]
     },
     "execution_count": 12,
     "metadata": {},
     "output_type": "execute_result"
    }
   ],
   "source": [
    "bio=soup.find(\"div\",{\"class\":\"js-profile-editable-area d-flex flex-column d-md-block\"})\n",
    "bio.text"
   ]
  },
  {
   "cell_type": "code",
   "execution_count": 13,
   "id": "989a6127",
   "metadata": {},
   "outputs": [],
   "source": [
    "with open(f'{User} Bio.txt',\"w\") as f :\n",
    "    f.writelines(bio.text)"
   ]
  },
  {
   "cell_type": "code",
   "execution_count": 75,
   "id": "86c54950",
   "metadata": {},
   "outputs": [
    {
     "name": "stdout",
     "output_type": "stream",
     "text": [
      "[]\n",
      "[<selenium.webdriver.remote.webelement.WebElement (session=\"cccb684159e43736c7a5fa9d3d873ae0\", element=\"b57c9085-b788-4189-939e-2922a279efcf\")>]\n",
      "[<selenium.webdriver.remote.webelement.WebElement (session=\"cccb684159e43736c7a5fa9d3d873ae0\", element=\"b57c9085-b788-4189-939e-2922a279efcf\")>, <selenium.webdriver.remote.webelement.WebElement (session=\"cccb684159e43736c7a5fa9d3d873ae0\", element=\"96488f1e-91c7-43b0-b900-b14cd122a384\")>]\n",
      "[<selenium.webdriver.remote.webelement.WebElement (session=\"cccb684159e43736c7a5fa9d3d873ae0\", element=\"b57c9085-b788-4189-939e-2922a279efcf\")>, <selenium.webdriver.remote.webelement.WebElement (session=\"cccb684159e43736c7a5fa9d3d873ae0\", element=\"96488f1e-91c7-43b0-b900-b14cd122a384\")>, <selenium.webdriver.remote.webelement.WebElement (session=\"cccb684159e43736c7a5fa9d3d873ae0\", element=\"37aa48bd-07de-4d0a-ba1f-53e159ef8826\")>]\n",
      "[<selenium.webdriver.remote.webelement.WebElement (session=\"cccb684159e43736c7a5fa9d3d873ae0\", element=\"b57c9085-b788-4189-939e-2922a279efcf\")>, <selenium.webdriver.remote.webelement.WebElement (session=\"cccb684159e43736c7a5fa9d3d873ae0\", element=\"96488f1e-91c7-43b0-b900-b14cd122a384\")>, <selenium.webdriver.remote.webelement.WebElement (session=\"cccb684159e43736c7a5fa9d3d873ae0\", element=\"37aa48bd-07de-4d0a-ba1f-53e159ef8826\")>, <selenium.webdriver.remote.webelement.WebElement (session=\"cccb684159e43736c7a5fa9d3d873ae0\", element=\"f30c40ae-720a-45b8-9320-559c8e6cecf0\")>]\n",
      "[<selenium.webdriver.remote.webelement.WebElement (session=\"cccb684159e43736c7a5fa9d3d873ae0\", element=\"b57c9085-b788-4189-939e-2922a279efcf\")>, <selenium.webdriver.remote.webelement.WebElement (session=\"cccb684159e43736c7a5fa9d3d873ae0\", element=\"96488f1e-91c7-43b0-b900-b14cd122a384\")>, <selenium.webdriver.remote.webelement.WebElement (session=\"cccb684159e43736c7a5fa9d3d873ae0\", element=\"37aa48bd-07de-4d0a-ba1f-53e159ef8826\")>, <selenium.webdriver.remote.webelement.WebElement (session=\"cccb684159e43736c7a5fa9d3d873ae0\", element=\"f30c40ae-720a-45b8-9320-559c8e6cecf0\")>, <selenium.webdriver.remote.webelement.WebElement (session=\"cccb684159e43736c7a5fa9d3d873ae0\", element=\"942f654f-1bbf-4386-963a-771a3664b408\")>]\n",
      "[<selenium.webdriver.remote.webelement.WebElement (session=\"cccb684159e43736c7a5fa9d3d873ae0\", element=\"b57c9085-b788-4189-939e-2922a279efcf\")>, <selenium.webdriver.remote.webelement.WebElement (session=\"cccb684159e43736c7a5fa9d3d873ae0\", element=\"96488f1e-91c7-43b0-b900-b14cd122a384\")>, <selenium.webdriver.remote.webelement.WebElement (session=\"cccb684159e43736c7a5fa9d3d873ae0\", element=\"37aa48bd-07de-4d0a-ba1f-53e159ef8826\")>, <selenium.webdriver.remote.webelement.WebElement (session=\"cccb684159e43736c7a5fa9d3d873ae0\", element=\"f30c40ae-720a-45b8-9320-559c8e6cecf0\")>, <selenium.webdriver.remote.webelement.WebElement (session=\"cccb684159e43736c7a5fa9d3d873ae0\", element=\"942f654f-1bbf-4386-963a-771a3664b408\")>, <selenium.webdriver.remote.webelement.WebElement (session=\"cccb684159e43736c7a5fa9d3d873ae0\", element=\"3b021bbf-89c6-46f2-8f75-e5bef044aa95\")>]\n",
      "[<selenium.webdriver.remote.webelement.WebElement (session=\"cccb684159e43736c7a5fa9d3d873ae0\", element=\"b57c9085-b788-4189-939e-2922a279efcf\")>, <selenium.webdriver.remote.webelement.WebElement (session=\"cccb684159e43736c7a5fa9d3d873ae0\", element=\"96488f1e-91c7-43b0-b900-b14cd122a384\")>, <selenium.webdriver.remote.webelement.WebElement (session=\"cccb684159e43736c7a5fa9d3d873ae0\", element=\"37aa48bd-07de-4d0a-ba1f-53e159ef8826\")>, <selenium.webdriver.remote.webelement.WebElement (session=\"cccb684159e43736c7a5fa9d3d873ae0\", element=\"f30c40ae-720a-45b8-9320-559c8e6cecf0\")>, <selenium.webdriver.remote.webelement.WebElement (session=\"cccb684159e43736c7a5fa9d3d873ae0\", element=\"942f654f-1bbf-4386-963a-771a3664b408\")>, <selenium.webdriver.remote.webelement.WebElement (session=\"cccb684159e43736c7a5fa9d3d873ae0\", element=\"3b021bbf-89c6-46f2-8f75-e5bef044aa95\")>, <selenium.webdriver.remote.webelement.WebElement (session=\"cccb684159e43736c7a5fa9d3d873ae0\", element=\"eeddd1ea-9189-464c-bb72-3482e3a8cc0b\")>]\n",
      "[<selenium.webdriver.remote.webelement.WebElement (session=\"cccb684159e43736c7a5fa9d3d873ae0\", element=\"b57c9085-b788-4189-939e-2922a279efcf\")>, <selenium.webdriver.remote.webelement.WebElement (session=\"cccb684159e43736c7a5fa9d3d873ae0\", element=\"96488f1e-91c7-43b0-b900-b14cd122a384\")>, <selenium.webdriver.remote.webelement.WebElement (session=\"cccb684159e43736c7a5fa9d3d873ae0\", element=\"37aa48bd-07de-4d0a-ba1f-53e159ef8826\")>, <selenium.webdriver.remote.webelement.WebElement (session=\"cccb684159e43736c7a5fa9d3d873ae0\", element=\"f30c40ae-720a-45b8-9320-559c8e6cecf0\")>, <selenium.webdriver.remote.webelement.WebElement (session=\"cccb684159e43736c7a5fa9d3d873ae0\", element=\"942f654f-1bbf-4386-963a-771a3664b408\")>, <selenium.webdriver.remote.webelement.WebElement (session=\"cccb684159e43736c7a5fa9d3d873ae0\", element=\"3b021bbf-89c6-46f2-8f75-e5bef044aa95\")>, <selenium.webdriver.remote.webelement.WebElement (session=\"cccb684159e43736c7a5fa9d3d873ae0\", element=\"eeddd1ea-9189-464c-bb72-3482e3a8cc0b\")>, <selenium.webdriver.remote.webelement.WebElement (session=\"cccb684159e43736c7a5fa9d3d873ae0\", element=\"afd5c0a0-72ea-4080-911b-775dbe9d8447\")>]\n"
     ]
    }
   ],
   "source": [
    "info=[]\n",
    "for i in range (0,9,1):\n",
    "    r=web.find_elements_by_xpath(f\"//*[@id='user-repositories-list']/ul/li[{i}]/div[1]\")\n",
    "    info+=r\n",
    "    print(info)"
   ]
  },
  {
   "cell_type": "code",
   "execution_count": 76,
   "id": "e71edcd1",
   "metadata": {},
   "outputs": [
    {
     "name": "stdout",
     "output_type": "stream",
     "text": [
      "['PowerBi-Dashboard Public\\nUpdated 4 days ago', 'Imbd-Scraping-Analysis Public\\nJupyter Notebook Updated 6 days ago', 'Egypt-Coronavirus-Analysis Public\\nJupyter Notebook Updated 7 days ago', 'Investigating-Netflix-Movies-and-Guest-Stars-in-The-Office Public\\nJupyter Notebook Updated 8 days ago', 'The-Most-Expensive-Football-Transfers Public\\nJupyter Notebook Updated 8 days ago', 'The-Android-App-Market-on-Google-Play Public\\nJupyter Notebook Updated 8 days ago', 'AbdelhamidADel Public\\nConfig files for my GitHub profile.\\nconfig\\ngithub-config\\nUpdated 16 days ago', 'Dr.-Semmelweis-the-discovery-of-handwashing-Analysis Public\\nJupyter Notebook Updated on Jun 2']\n"
     ]
    }
   ],
   "source": [
    "repos=[]\n",
    "for i in info:\n",
    "    repos.append(i.text)\n",
    "print(repos)"
   ]
  },
  {
   "cell_type": "code",
   "execution_count": 77,
   "id": "a7d294cd",
   "metadata": {
    "scrolled": true
   },
   "outputs": [],
   "source": [
    "repo_1=web.find_elements_by_xpath(\"//*[@id='user-repositories-list']/li/div[1]\")\n",
    "for i in repo_1:\n",
    "    repos.append(i.text)\n",
    "\n"
   ]
  },
  {
   "cell_type": "code",
   "execution_count": 99,
   "id": "32102cd4",
   "metadata": {},
   "outputs": [],
   "source": [
    "with open(f'{User} Repositories.txt',\"w\") as f :\n",
    "    for i in repos:\n",
    "        f.writelines(\"-->\"+str(i)+\"\\n\")\n",
    "    f.writelines(\"---------------------------------\"+\"\\n\")\n",
    "    f.writelines(f\"Total Repositories={len(repos)}\")\n"
   ]
  },
  {
   "cell_type": "code",
   "execution_count": null,
   "id": "03767027",
   "metadata": {},
   "outputs": [],
   "source": []
  }
 ],
 "metadata": {
  "kernelspec": {
   "display_name": "Python 3 (ipykernel)",
   "language": "python",
   "name": "python3"
  },
  "language_info": {
   "codemirror_mode": {
    "name": "ipython",
    "version": 3
   },
   "file_extension": ".py",
   "mimetype": "text/x-python",
   "name": "python",
   "nbconvert_exporter": "python",
   "pygments_lexer": "ipython3",
   "version": "3.9.12"
  }
 },
 "nbformat": 4,
 "nbformat_minor": 5
}
