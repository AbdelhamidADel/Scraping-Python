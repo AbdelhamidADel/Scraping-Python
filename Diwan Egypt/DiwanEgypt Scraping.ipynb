{
 "cells": [
  {
   "cell_type": "code",
   "execution_count": 1,
   "id": "28dd910e",
   "metadata": {},
   "outputs": [],
   "source": [
    "from bs4 import BeautifulSoup as b4\n",
    "import requests\n",
    "import urllib.request\n",
    "import csv\n",
    "from itertools import zip_longest\n",
    "import os"
   ]
  },
  {
   "cell_type": "code",
   "execution_count": 2,
   "id": "1ccb3ddd",
   "metadata": {},
   "outputs": [
    {
     "ename": "FileExistsError",
     "evalue": "[WinError 183] Cannot create a file when that file already exists: 'C:/Users/abdel\\\\DiwanEgypt-English Books'",
     "output_type": "error",
     "traceback": [
      "\u001b[1;31m---------------------------------------------------------------------------\u001b[0m",
      "\u001b[1;31mFileExistsError\u001b[0m                           Traceback (most recent call last)",
      "Input \u001b[1;32mIn [2]\u001b[0m, in \u001b[0;36m<cell line: 7>\u001b[1;34m()\u001b[0m\n\u001b[0;32m      3\u001b[0m parent_dir \u001b[38;5;241m=\u001b[39m \u001b[38;5;124m\"\u001b[39m\u001b[38;5;124mC:/Users/abdel\u001b[39m\u001b[38;5;124m\"\u001b[39m\n\u001b[0;32m      5\u001b[0m path \u001b[38;5;241m=\u001b[39m os\u001b[38;5;241m.\u001b[39mpath\u001b[38;5;241m.\u001b[39mjoin(parent_dir, directory)\n\u001b[1;32m----> 7\u001b[0m \u001b[43mos\u001b[49m\u001b[38;5;241;43m.\u001b[39;49m\u001b[43mmkdir\u001b[49m\u001b[43m(\u001b[49m\u001b[43mpath\u001b[49m\u001b[43m)\u001b[49m \n\u001b[0;32m      8\u001b[0m \u001b[38;5;28mprint\u001b[39m(\u001b[38;5;124m\"\u001b[39m\u001b[38;5;124mDirectory \u001b[39m\u001b[38;5;124m'\u001b[39m\u001b[38;5;132;01m% s\u001b[39;00m\u001b[38;5;124m'\u001b[39m\u001b[38;5;124m created\u001b[39m\u001b[38;5;124m\"\u001b[39m \u001b[38;5;241m%\u001b[39m directory)\n",
      "\u001b[1;31mFileExistsError\u001b[0m: [WinError 183] Cannot create a file when that file already exists: 'C:/Users/abdel\\\\DiwanEgypt-English Books'"
     ]
    }
   ],
   "source": [
    "directory = \"DiwanEgypt-English Books\"\n",
    "\n",
    "parent_dir = \"C:/Users/abdel\"\n",
    "\n",
    "path = os.path.join(parent_dir, directory)\n",
    "\n",
    "os.mkdir(path) \n",
    "print(\"Directory '% s' created\" % directory) \n"
   ]
  },
  {
   "cell_type": "code",
   "execution_count": 3,
   "id": "7f726018",
   "metadata": {},
   "outputs": [
    {
     "name": "stdout",
     "output_type": "stream",
     "text": [
      "C:\\Users\\abdel\\DiwanEgypt-English Books\n"
     ]
    }
   ],
   "source": [
    "os.chdir(path)\n",
    "cwd = os.getcwd()\n",
    "print(cwd)"
   ]
  },
  {
   "cell_type": "code",
   "execution_count": 4,
   "id": "0bdbfe5f",
   "metadata": {},
   "outputs": [],
   "source": [
    "Books_Name=[]\n",
    "author_names=[]\n",
    "price_books=[]\n",
    "images=[]\n",
    "for p in range (1,4,1):\n",
    "    url=f\"https://diwanegypt.com/product-category/books/english-books/page/{p}/\"\n",
    "    response = requests.get(url)\n",
    "    soup = b4(response.content, 'html.parser')\n",
    "    books=soup.find_all(\"h2\",{\"class\":\"woocommerce-loop-product__title\"})\n",
    "    author=soup.find_all(\"span\",{\"class\":\"author\"})\n",
    "    price=soup.find_all(\"span\",{\"class\":\"price\"})\n",
    "    image=soup.find_all(\"img\",{\"height\":\"600\"})\n",
    "    for img in image:\n",
    "        images.append(img[\"src\"])\n",
    "    for i in books:\n",
    "        Books_Name.append((i.text))\n",
    "    for a in author:\n",
    "        author_names.append((a.text))\n",
    "    for m in price:\n",
    "        price_books.append((m.text))\n",
    "   \n",
    "        "
   ]
  },
  {
   "cell_type": "code",
   "execution_count": 5,
   "id": "e4301690",
   "metadata": {},
   "outputs": [
    {
     "data": {
      "text/plain": [
       "['https://i0.wp.com/diwanegypt.com/wp-content/uploads/2022/07/9781538727355.jpg?resize=450%2C600&ssl=1',\n",
       " 'https://i0.wp.com/diwanegypt.com/wp-content/uploads/2022/07/9781368071345.jpg?resize=450%2C600&ssl=1',\n",
       " 'https://i0.wp.com/diwanegypt.com/wp-content/uploads/2022/07/9781368063807.jpg?resize=450%2C600&ssl=1',\n",
       " 'https://i0.wp.com/diwanegypt.com/wp-content/uploads/2022/07/9781368052238.jpg?resize=450%2C600&ssl=1',\n",
       " 'https://i0.wp.com/diwanegypt.com/wp-content/uploads/2022/07/9781328911124.jpg?resize=450%2C600&ssl=1',\n",
       " 'https://i0.wp.com/diwanegypt.com/wp-content/uploads/2022/07/9781328530820.jpg?resize=450%2C600&ssl=1',\n",
       " 'https://i0.wp.com/diwanegypt.com/wp-content/uploads/2022/07/9780785290278.jpg?resize=450%2C600&ssl=1',\n",
       " 'https://i0.wp.com/diwanegypt.com/wp-content/uploads/2022/07/9780785232483.jpg?resize=450%2C600&ssl=1',\n",
       " 'https://i0.wp.com/diwanegypt.com/wp-content/uploads/2022/07/9780358561910.jpg?resize=450%2C600&ssl=1',\n",
       " 'https://i0.wp.com/diwanegypt.com/wp-content/uploads/2022/07/9780358242192.jpg?resize=450%2C600&ssl=1',\n",
       " 'https://i0.wp.com/diwanegypt.com/wp-content/uploads/2022/07/9780358206354.jpg?resize=450%2C600&ssl=1',\n",
       " 'https://i0.wp.com/diwanegypt.com/wp-content/uploads/2022/07/9780316459204.jpg?resize=450%2C600&ssl=1',\n",
       " 'https://i0.wp.com/diwanegypt.com/wp-content/uploads/2022/07/9780316459198.jpg?resize=450%2C600&ssl=1',\n",
       " 'https://i0.wp.com/diwanegypt.com/wp-content/uploads/2022/07/9780063239180.jpg?resize=450%2C600&ssl=1',\n",
       " 'https://i0.wp.com/diwanegypt.com/wp-content/uploads/2022/07/9780063227866.jpg?resize=450%2C600&ssl=1',\n",
       " 'https://i0.wp.com/diwanegypt.com/wp-content/uploads/2022/07/9780063136748.jpg?resize=450%2C600&ssl=1',\n",
       " 'https://i0.wp.com/diwanegypt.com/wp-content/uploads/2022/07/9780063094369.jpg?resize=450%2C600&ssl=1',\n",
       " 'https://i0.wp.com/diwanegypt.com/wp-content/uploads/2022/07/9780063045699.jpg?resize=450%2C600&ssl=1',\n",
       " 'https://i0.wp.com/diwanegypt.com/wp-content/uploads/2022/07/9780063045651.jpg?resize=450%2C600&ssl=1',\n",
       " 'https://i0.wp.com/diwanegypt.com/wp-content/uploads/2022/07/9780062994189.jpg?resize=450%2C600&ssl=1',\n",
       " 'https://i0.wp.com/diwanegypt.com/wp-content/uploads/2022/07/9780062988775.jpg?resize=450%2C600&ssl=1',\n",
       " 'https://i0.wp.com/diwanegypt.com/wp-content/uploads/2022/07/9780062980748.jpg?resize=450%2C600&ssl=1',\n",
       " 'https://i0.wp.com/diwanegypt.com/wp-content/uploads/2022/07/9780062960658.jpg?resize=450%2C600&ssl=1',\n",
       " 'https://i0.wp.com/diwanegypt.com/wp-content/uploads/2022/07/9780062876010.jpg?resize=450%2C600&ssl=1',\n",
       " 'https://i0.wp.com/diwanegypt.com/wp-content/uploads/2022/07/9780062872852.jpg?resize=450%2C600&ssl=1',\n",
       " 'https://i0.wp.com/diwanegypt.com/wp-content/uploads/2022/07/9780062802200.jpg?resize=450%2C600&ssl=1',\n",
       " 'https://i0.wp.com/diwanegypt.com/wp-content/uploads/2022/07/9780062798817.jpg?resize=450%2C600&ssl=1',\n",
       " 'https://i0.wp.com/diwanegypt.com/wp-content/uploads/2022/07/9780062667649.jpg?resize=450%2C600&ssl=1',\n",
       " 'https://i0.wp.com/diwanegypt.com/wp-content/uploads/2022/07/9780062398987.jpg?resize=450%2C600&ssl=1',\n",
       " 'https://i0.wp.com/diwanegypt.com/wp-content/uploads/2022/07/9780062398918.jpg?resize=450%2C600&ssl=1',\n",
       " 'https://i0.wp.com/diwanegypt.com/wp-content/uploads/2022/07/9780062017741.jpg?resize=450%2C600&ssl=1',\n",
       " 'https://i0.wp.com/diwanegypt.com/wp-content/uploads/2022/07/9780061995040.jpg?resize=450%2C600&ssl=1',\n",
       " 'https://i0.wp.com/diwanegypt.com/wp-content/uploads/2022/06/9780340846506.jpg?resize=450%2C600&ssl=1',\n",
       " 'https://i0.wp.com/diwanegypt.com/wp-content/uploads/2022/06/9781952692154.jpg?resize=450%2C600&ssl=1',\n",
       " 'https://i0.wp.com/diwanegypt.com/wp-content/uploads/2022/06/9781935429760.jpg?resize=450%2C600&ssl=1',\n",
       " 'https://i0.wp.com/diwanegypt.com/wp-content/uploads/2022/06/9781935429753.jpg?resize=450%2C600&ssl=1',\n",
       " 'https://i0.wp.com/diwanegypt.com/wp-content/uploads/2022/06/9781786786067.jpg?resize=450%2C600&ssl=1',\n",
       " 'https://i0.wp.com/diwanegypt.com/wp-content/uploads/2022/06/9781786784117.jpg?resize=450%2C600&ssl=1',\n",
       " 'https://i0.wp.com/diwanegypt.com/wp-content/uploads/2022/06/9781786783660.jpg?resize=450%2C600&ssl=1',\n",
       " 'https://i0.wp.com/diwanegypt.com/wp-content/uploads/2022/06/9781646513062.jpg?resize=450%2C600&ssl=1',\n",
       " 'https://i0.wp.com/diwanegypt.com/wp-content/uploads/2022/06/9781646512331.jpg?resize=450%2C600&ssl=1',\n",
       " 'https://i0.wp.com/diwanegypt.com/wp-content/uploads/2022/06/9781646511525.jpg?resize=450%2C600&ssl=1',\n",
       " 'https://i0.wp.com/diwanegypt.com/wp-content/uploads/2022/06/9781646510665.jpg?resize=450%2C600&ssl=1',\n",
       " 'https://i0.wp.com/diwanegypt.com/wp-content/uploads/2022/06/9781646510658.jpg?resize=450%2C600&ssl=1',\n",
       " 'https://i0.wp.com/diwanegypt.com/wp-content/uploads/2022/06/9781646510030.jpg?resize=450%2C600&ssl=1',\n",
       " 'https://i0.wp.com/diwanegypt.com/wp-content/uploads/2022/06/9781635421699.jpg?resize=450%2C600&ssl=1',\n",
       " 'https://i0.wp.com/diwanegypt.com/wp-content/uploads/2022/06/9781632369840.jpg?resize=450%2C600&ssl=1',\n",
       " 'https://i0.wp.com/diwanegypt.com/wp-content/uploads/2022/06/9781632369482.jpg?resize=450%2C600&ssl=1',\n",
       " 'https://i0.wp.com/diwanegypt.com/wp-content/uploads/2022/06/9781632369475.jpg?resize=450%2C600&ssl=1',\n",
       " 'https://i0.wp.com/diwanegypt.com/wp-content/uploads/2022/06/9781632369222.jpg?resize=450%2C600&ssl=1',\n",
       " 'https://i0.wp.com/diwanegypt.com/wp-content/uploads/2022/06/9781632369215.jpg?resize=450%2C600&ssl=1',\n",
       " 'https://i0.wp.com/diwanegypt.com/wp-content/uploads/2022/06/9781632368935.jpg?resize=450%2C600&ssl=1',\n",
       " 'https://i0.wp.com/diwanegypt.com/wp-content/uploads/2022/06/9781632368928.jpg?resize=450%2C600&ssl=1',\n",
       " 'https://i0.wp.com/diwanegypt.com/wp-content/uploads/2022/06/9781632368744.jpg?resize=450%2C600&ssl=1',\n",
       " 'https://i0.wp.com/diwanegypt.com/wp-content/uploads/2022/06/9781632368737.jpg?resize=450%2C600&ssl=1',\n",
       " 'https://i0.wp.com/diwanegypt.com/wp-content/uploads/2022/06/9781632368720.jpg?resize=450%2C600&ssl=1',\n",
       " 'https://i0.wp.com/diwanegypt.com/wp-content/uploads/2022/06/9781632368294.jpg?resize=450%2C600&ssl=1',\n",
       " 'https://i0.wp.com/diwanegypt.com/wp-content/uploads/2022/06/9781632367976.jpg?resize=450%2C600&ssl=1',\n",
       " 'https://i0.wp.com/diwanegypt.com/wp-content/uploads/2022/06/9781632367419.jpg?resize=450%2C600&ssl=1',\n",
       " 'https://i0.wp.com/diwanegypt.com/wp-content/uploads/2022/06/9781632367327.jpg?resize=450%2C600&ssl=1',\n",
       " 'https://i0.wp.com/diwanegypt.com/wp-content/uploads/2022/06/9781632367310.jpg?resize=450%2C600&ssl=1',\n",
       " 'https://i0.wp.com/diwanegypt.com/wp-content/uploads/2022/06/9781632366825.jpg?resize=450%2C600&ssl=1',\n",
       " 'https://i0.wp.com/diwanegypt.com/wp-content/uploads/2022/06/9781632366818.jpg?resize=450%2C600&ssl=1',\n",
       " 'https://i0.wp.com/diwanegypt.com/wp-content/uploads/2022/06/9781632366573.jpg?resize=450%2C600&ssl=1',\n",
       " 'https://i0.wp.com/diwanegypt.com/wp-content/uploads/2022/06/9781632366283.jpg?resize=450%2C600&ssl=1',\n",
       " 'https://i0.wp.com/diwanegypt.com/wp-content/uploads/2022/06/9781632366146.jpg?resize=450%2C600&ssl=1',\n",
       " 'https://i0.wp.com/diwanegypt.com/wp-content/uploads/2022/06/9781632365682.jpg?resize=450%2C600&ssl=1',\n",
       " 'https://i0.wp.com/diwanegypt.com/wp-content/uploads/2022/06/9781632365675.jpg?resize=450%2C600&ssl=1',\n",
       " 'https://i0.wp.com/diwanegypt.com/wp-content/uploads/2022/06/9781632365668.jpg?resize=450%2C600&ssl=1',\n",
       " 'https://i0.wp.com/diwanegypt.com/wp-content/uploads/2022/06/9781632365149.jpg?resize=450%2C600&ssl=1',\n",
       " 'https://i0.wp.com/diwanegypt.com/wp-content/uploads/2022/06/9781632364425.jpg?resize=450%2C600&ssl=1',\n",
       " 'https://i0.wp.com/diwanegypt.com/wp-content/uploads/2022/06/9781632363855.jpg?resize=450%2C600&ssl=1',\n",
       " 'https://i0.wp.com/diwanegypt.com/wp-content/uploads/2022/06/9781632363831.jpg?resize=450%2C600&ssl=1',\n",
       " 'https://i0.wp.com/diwanegypt.com/wp-content/uploads/2022/06/9781632363824.jpg?resize=450%2C600&ssl=1',\n",
       " 'https://i0.wp.com/diwanegypt.com/wp-content/uploads/2022/06/9781632363817.jpg?resize=450%2C600&ssl=1',\n",
       " 'https://i0.wp.com/diwanegypt.com/wp-content/uploads/2022/06/9781632363503.jpg?resize=450%2C600&ssl=1',\n",
       " 'https://i0.wp.com/diwanegypt.com/wp-content/uploads/2022/06/9781632363206.jpg?resize=450%2C600&ssl=1',\n",
       " 'https://i0.wp.com/diwanegypt.com/wp-content/uploads/2022/06/9781632362933.jpg?resize=450%2C600&ssl=1',\n",
       " 'https://i0.wp.com/diwanegypt.com/wp-content/uploads/2022/06/9781632362926.jpg?resize=450%2C600&ssl=1',\n",
       " 'https://i0.wp.com/diwanegypt.com/wp-content/uploads/2022/06/9781632362704.jpg?resize=450%2C600&ssl=1',\n",
       " 'https://i0.wp.com/diwanegypt.com/wp-content/uploads/2022/06/9781632362605.jpg?resize=450%2C600&ssl=1',\n",
       " 'https://i0.wp.com/diwanegypt.com/wp-content/uploads/2022/06/9781632362254.jpg?resize=450%2C600&ssl=1',\n",
       " 'https://i0.wp.com/diwanegypt.com/wp-content/uploads/2022/06/9781632362247.jpg?resize=450%2C600&ssl=1',\n",
       " 'https://i0.wp.com/diwanegypt.com/wp-content/uploads/2022/06/9781632362179.jpg?resize=450%2C600&ssl=1',\n",
       " 'https://i0.wp.com/diwanegypt.com/wp-content/uploads/2022/06/9781632362162.jpg?resize=450%2C600&ssl=1',\n",
       " 'https://i0.wp.com/diwanegypt.com/wp-content/uploads/2022/06/9781632361295.jpg?resize=450%2C600&ssl=1',\n",
       " 'https://i0.wp.com/diwanegypt.com/wp-content/uploads/2022/06/9781632361172.jpg?resize=450%2C600&ssl=1',\n",
       " 'https://i0.wp.com/diwanegypt.com/wp-content/uploads/2022/06/9781632174116.jpg?resize=450%2C600&ssl=1',\n",
       " 'https://i0.wp.com/diwanegypt.com/wp-content/uploads/2022/06/9781616552053.jpg?resize=450%2C600&ssl=1',\n",
       " 'https://i0.wp.com/diwanegypt.com/wp-content/uploads/2022/06/9781612629827.jpg?resize=450%2C600&ssl=1']"
      ]
     },
     "execution_count": 5,
     "metadata": {},
     "output_type": "execute_result"
    }
   ],
   "source": [
    "images"
   ]
  },
  {
   "cell_type": "code",
   "execution_count": 6,
   "id": "a1271463",
   "metadata": {},
   "outputs": [],
   "source": [
    "for index,g in enumerate(images):\n",
    "    image_url = g\n",
    "    save_name =f\"Book{index}.jpg\"\n",
    "    urllib.request.urlretrieve(image_url, save_name)"
   ]
  },
  {
   "cell_type": "code",
   "execution_count": 7,
   "id": "805f9c4d",
   "metadata": {},
   "outputs": [
    {
     "data": {
      "text/plain": [
       "['Archer’S Voice',\n",
       " 'Bravely',\n",
       " 'Go the Distance',\n",
       " 'Conceal, Don’t Feel',\n",
       " 'Click']"
      ]
     },
     "execution_count": 7,
     "metadata": {},
     "output_type": "execute_result"
    }
   ],
   "source": [
    "Books_Name[:5]\n"
   ]
  },
  {
   "cell_type": "code",
   "execution_count": 8,
   "id": "7ad976fb",
   "metadata": {},
   "outputs": [
    {
     "data": {
      "text/plain": [
       "['Mia Sheridan',\n",
       " 'Maggie Stiefvater',\n",
       " 'Jen Calonita',\n",
       " 'Jen Calonita',\n",
       " 'Kayla Miller']"
      ]
     },
     "execution_count": 8,
     "metadata": {},
     "output_type": "execute_result"
    }
   ],
   "source": [
    "author_names[:5]\n"
   ]
  },
  {
   "cell_type": "code",
   "execution_count": 9,
   "id": "9415afca",
   "metadata": {},
   "outputs": [
    {
     "data": {
      "text/plain": [
       "['EGP400.00', 'EGP465.00', 'EGP420.00', 'EGP420.00', 'EGP320.00']"
      ]
     },
     "execution_count": 9,
     "metadata": {},
     "output_type": "execute_result"
    }
   ],
   "source": [
    "price_books[:5]"
   ]
  },
  {
   "cell_type": "code",
   "execution_count": 10,
   "id": "2c4c382e",
   "metadata": {},
   "outputs": [],
   "source": [
    "file_list = [Books_Name,author_names,price_books]\n",
    "exported=zip_longest(*file_list)\n",
    "f = open('DiwanEgypt-English Books.csv', 'w',encoding=\"UTF-8\")\n",
    "writer = csv.writer(f)\n",
    "writer.writerow([\"Books\",\"Author\",\"Price\"])\n",
    "writer.writerows(exported)\n",
    "f.close()"
   ]
  },
  {
   "cell_type": "code",
   "execution_count": 12,
   "id": "df22fc75",
   "metadata": {},
   "outputs": [
    {
     "name": "stdout",
     "output_type": "stream",
     "text": [
      "<class 'pandas.core.frame.DataFrame'>\n",
      "RangeIndex: 90 entries, 0 to 89\n",
      "Data columns (total 3 columns):\n",
      " #   Column  Non-Null Count  Dtype \n",
      "---  ------  --------------  ----- \n",
      " 0   Books   90 non-null     object\n",
      " 1   Author  90 non-null     object\n",
      " 2   Price   90 non-null     object\n",
      "dtypes: object(3)\n",
      "memory usage: 2.2+ KB\n"
     ]
    }
   ],
   "source": [
    "import pandas as pd\n",
    "data=pd.read_csv(\"DiwanEgypt-English Books.csv\")\n",
    "df=pd.DataFrame(data)\n",
    "df.info()"
   ]
  },
  {
   "cell_type": "code",
   "execution_count": null,
   "id": "1e36e36b",
   "metadata": {},
   "outputs": [],
   "source": []
  }
 ],
 "metadata": {
  "kernelspec": {
   "display_name": "Python 3 (ipykernel)",
   "language": "python",
   "name": "python3"
  },
  "language_info": {
   "codemirror_mode": {
    "name": "ipython",
    "version": 3
   },
   "file_extension": ".py",
   "mimetype": "text/x-python",
   "name": "python",
   "nbconvert_exporter": "python",
   "pygments_lexer": "ipython3",
   "version": "3.9.12"
  }
 },
 "nbformat": 4,
 "nbformat_minor": 5
}
