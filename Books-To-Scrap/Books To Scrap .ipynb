{
 "cells": [
  {
   "cell_type": "code",
   "execution_count": 32,
   "id": "e239ecc1",
   "metadata": {},
   "outputs": [],
   "source": [
    "from bs4 import BeautifulSoup as b4\n",
    "import requests\n",
    "import urllib.request\n",
    "import csv\n",
    "from itertools import zip_longest\n",
    "import os\n",
    "import pandas as pd"
   ]
  },
  {
   "cell_type": "code",
   "execution_count": 5,
   "id": "84a3cbf8",
   "metadata": {},
   "outputs": [
    {
     "ename": "FileExistsError",
     "evalue": "[WinError 183] Cannot create a file when that file already exists: 'C:/Users/abdel\\\\Books-To-Scrap'",
     "output_type": "error",
     "traceback": [
      "\u001b[1;31m---------------------------------------------------------------------------\u001b[0m",
      "\u001b[1;31mFileExistsError\u001b[0m                           Traceback (most recent call last)",
      "Input \u001b[1;32mIn [5]\u001b[0m, in \u001b[0;36m<cell line: 7>\u001b[1;34m()\u001b[0m\n\u001b[0;32m      3\u001b[0m parent_dir \u001b[38;5;241m=\u001b[39m \u001b[38;5;124m\"\u001b[39m\u001b[38;5;124mC:/Users/abdel\u001b[39m\u001b[38;5;124m\"\u001b[39m\n\u001b[0;32m      5\u001b[0m path \u001b[38;5;241m=\u001b[39m os\u001b[38;5;241m.\u001b[39mpath\u001b[38;5;241m.\u001b[39mjoin(parent_dir, directory)\n\u001b[1;32m----> 7\u001b[0m \u001b[43mos\u001b[49m\u001b[38;5;241;43m.\u001b[39;49m\u001b[43mmkdir\u001b[49m\u001b[43m(\u001b[49m\u001b[43mpath\u001b[49m\u001b[43m)\u001b[49m \n\u001b[0;32m      8\u001b[0m \u001b[38;5;28mprint\u001b[39m(\u001b[38;5;124m\"\u001b[39m\u001b[38;5;124mDirectory \u001b[39m\u001b[38;5;124m'\u001b[39m\u001b[38;5;132;01m% s\u001b[39;00m\u001b[38;5;124m'\u001b[39m\u001b[38;5;124m created\u001b[39m\u001b[38;5;124m\"\u001b[39m \u001b[38;5;241m%\u001b[39m directory)\n",
      "\u001b[1;31mFileExistsError\u001b[0m: [WinError 183] Cannot create a file when that file already exists: 'C:/Users/abdel\\\\Books-To-Scrap'"
     ]
    }
   ],
   "source": [
    "directory = \"Books-To-Scrap\"\n",
    "\n",
    "parent_dir = \"C:/Users/abdel\"\n",
    "\n",
    "path = os.path.join(parent_dir, directory)\n",
    "\n",
    "os.mkdir(path) \n",
    "print(\"Directory '% s' created\" % directory) \n"
   ]
  },
  {
   "cell_type": "code",
   "execution_count": 6,
   "id": "80a433e7",
   "metadata": {},
   "outputs": [
    {
     "name": "stdout",
     "output_type": "stream",
     "text": [
      "C:\\Users\\abdel\\Books-To-Scrap\n"
     ]
    }
   ],
   "source": [
    "os.chdir(path)\n",
    "cwd = os.getcwd()\n",
    "print(cwd)"
   ]
  },
  {
   "cell_type": "code",
   "execution_count": 51,
   "id": "a477c186",
   "metadata": {},
   "outputs": [],
   "source": [
    "Books_Name=[]\n",
    "Books_price=[]\n",
    "Books_rate=[]\n",
    "for p in range (1,51,1):\n",
    "    url=f\"https://books.toscrape.com/catalogue/page-{p}.html\"\n",
    "    response = requests.get(url)\n",
    "    soup = b4(response.content, 'html.parser')\n",
    "    bookshelf = soup.findAll(\"li\", {\"class\": \"col-xs-6 col-sm-4 col-md-3 col-lg-3\"})\n",
    "    for books in bookshelf:\n",
    "        book_title = books.h3.a[\"title\"]\n",
    "        Books_Name.append(book_title)\n",
    "        \n",
    "        book_price = books.findAll(\"p\", {\"class\": \"price_color\"})\n",
    "        for price in book_price:\n",
    "            Books_price.append(price.text)\n",
    "            \n",
    "        book_rate=books.p[\"class\"]\n",
    "        Books_rate.append(book_rate)\n",
    "    "
   ]
  },
  {
   "cell_type": "code",
   "execution_count": 52,
   "id": "e6f50caa",
   "metadata": {},
   "outputs": [
    {
     "data": {
      "text/plain": [
       "['A Light in the Attic',\n",
       " 'Tipping the Velvet',\n",
       " 'Soumission',\n",
       " 'Sharp Objects',\n",
       " 'Sapiens: A Brief History of Humankind']"
      ]
     },
     "execution_count": 52,
     "metadata": {},
     "output_type": "execute_result"
    }
   ],
   "source": [
    "Books_Name[:5]"
   ]
  },
  {
   "cell_type": "code",
   "execution_count": 53,
   "id": "3c2368e6",
   "metadata": {},
   "outputs": [
    {
     "data": {
      "text/plain": [
       "['£51.77', '£53.74', '£50.10', '£47.82', '£54.23']"
      ]
     },
     "execution_count": 53,
     "metadata": {},
     "output_type": "execute_result"
    }
   ],
   "source": [
    "Books_price[:5]"
   ]
  },
  {
   "cell_type": "code",
   "execution_count": 54,
   "id": "b8db5c07",
   "metadata": {},
   "outputs": [
    {
     "data": {
      "text/plain": [
       "[\"star-rating', 'Three\",\n",
       " \"star-rating', 'Three\",\n",
       " \"star-rating', 'Three\",\n",
       " \"star-rating', 'Three\",\n",
       " \"star-rating', 'Three\"]"
      ]
     },
     "execution_count": 54,
     "metadata": {},
     "output_type": "execute_result"
    }
   ],
   "source": [
    "Books_rrate[:5]"
   ]
  },
  {
   "cell_type": "code",
   "execution_count": 55,
   "id": "bc877b89",
   "metadata": {},
   "outputs": [
    {
     "data": {
      "text/plain": [
       "1000"
      ]
     },
     "execution_count": 55,
     "metadata": {},
     "output_type": "execute_result"
    }
   ],
   "source": [
    "len(Books_Name)"
   ]
  },
  {
   "cell_type": "code",
   "execution_count": 56,
   "id": "9b9c7128",
   "metadata": {},
   "outputs": [
    {
     "data": {
      "text/plain": [
       "1000"
      ]
     },
     "execution_count": 56,
     "metadata": {},
     "output_type": "execute_result"
    }
   ],
   "source": [
    "len(Books_price)"
   ]
  },
  {
   "cell_type": "code",
   "execution_count": 57,
   "id": "b9b3a32d",
   "metadata": {},
   "outputs": [
    {
     "data": {
      "text/plain": [
       "1000"
      ]
     },
     "execution_count": 57,
     "metadata": {},
     "output_type": "execute_result"
    }
   ],
   "source": [
    "len(Books_rate)"
   ]
  },
  {
   "cell_type": "code",
   "execution_count": 60,
   "id": "0e93ade1",
   "metadata": {},
   "outputs": [],
   "source": [
    "file_list = [Books_Name,Books_price,Books_rate]\n",
    "exported=zip_longest(*file_list)\n",
    "f = open('Books to scrap.csv', 'w',encoding=\"UTF-8\")\n",
    "writer = csv.writer(f)\n",
    "writer.writerow([\"Books\",\"Price\",\"Rate\"])\n",
    "writer.writerows(exported)\n",
    "f.close()"
   ]
  },
  {
   "cell_type": "code",
   "execution_count": 61,
   "id": "911080f1",
   "metadata": {},
   "outputs": [
    {
     "data": {
      "text/html": [
       "<div>\n",
       "<style scoped>\n",
       "    .dataframe tbody tr th:only-of-type {\n",
       "        vertical-align: middle;\n",
       "    }\n",
       "\n",
       "    .dataframe tbody tr th {\n",
       "        vertical-align: top;\n",
       "    }\n",
       "\n",
       "    .dataframe thead th {\n",
       "        text-align: right;\n",
       "    }\n",
       "</style>\n",
       "<table border=\"1\" class=\"dataframe\">\n",
       "  <thead>\n",
       "    <tr style=\"text-align: right;\">\n",
       "      <th></th>\n",
       "      <th>Books</th>\n",
       "      <th>Price</th>\n",
       "      <th>Rate</th>\n",
       "    </tr>\n",
       "  </thead>\n",
       "  <tbody>\n",
       "    <tr>\n",
       "      <th>0</th>\n",
       "      <td>A Light in the Attic</td>\n",
       "      <td>£51.77</td>\n",
       "      <td>['star-rating', 'Three']</td>\n",
       "    </tr>\n",
       "    <tr>\n",
       "      <th>1</th>\n",
       "      <td>Tipping the Velvet</td>\n",
       "      <td>£53.74</td>\n",
       "      <td>['star-rating', 'One']</td>\n",
       "    </tr>\n",
       "    <tr>\n",
       "      <th>2</th>\n",
       "      <td>Soumission</td>\n",
       "      <td>£50.10</td>\n",
       "      <td>['star-rating', 'One']</td>\n",
       "    </tr>\n",
       "    <tr>\n",
       "      <th>3</th>\n",
       "      <td>Sharp Objects</td>\n",
       "      <td>£47.82</td>\n",
       "      <td>['star-rating', 'Four']</td>\n",
       "    </tr>\n",
       "    <tr>\n",
       "      <th>4</th>\n",
       "      <td>Sapiens: A Brief History of Humankind</td>\n",
       "      <td>£54.23</td>\n",
       "      <td>['star-rating', 'Five']</td>\n",
       "    </tr>\n",
       "    <tr>\n",
       "      <th>...</th>\n",
       "      <td>...</td>\n",
       "      <td>...</td>\n",
       "      <td>...</td>\n",
       "    </tr>\n",
       "    <tr>\n",
       "      <th>995</th>\n",
       "      <td>Alice in Wonderland (Alice's Adventures in Won...</td>\n",
       "      <td>£55.53</td>\n",
       "      <td>['star-rating', 'One']</td>\n",
       "    </tr>\n",
       "    <tr>\n",
       "      <th>996</th>\n",
       "      <td>Ajin: Demi-Human, Volume 1 (Ajin: Demi-Human #1)</td>\n",
       "      <td>£57.06</td>\n",
       "      <td>['star-rating', 'Four']</td>\n",
       "    </tr>\n",
       "    <tr>\n",
       "      <th>997</th>\n",
       "      <td>A Spy's Devotion (The Regency Spies of London #1)</td>\n",
       "      <td>£16.97</td>\n",
       "      <td>['star-rating', 'Five']</td>\n",
       "    </tr>\n",
       "    <tr>\n",
       "      <th>998</th>\n",
       "      <td>1st to Die (Women's Murder Club #1)</td>\n",
       "      <td>£53.98</td>\n",
       "      <td>['star-rating', 'One']</td>\n",
       "    </tr>\n",
       "    <tr>\n",
       "      <th>999</th>\n",
       "      <td>1,000 Places to See Before You Die</td>\n",
       "      <td>£26.08</td>\n",
       "      <td>['star-rating', 'Five']</td>\n",
       "    </tr>\n",
       "  </tbody>\n",
       "</table>\n",
       "<p>1000 rows × 3 columns</p>\n",
       "</div>"
      ],
      "text/plain": [
       "                                                 Books   Price  \\\n",
       "0                                 A Light in the Attic  £51.77   \n",
       "1                                   Tipping the Velvet  £53.74   \n",
       "2                                           Soumission  £50.10   \n",
       "3                                        Sharp Objects  £47.82   \n",
       "4                Sapiens: A Brief History of Humankind  £54.23   \n",
       "..                                                 ...     ...   \n",
       "995  Alice in Wonderland (Alice's Adventures in Won...  £55.53   \n",
       "996   Ajin: Demi-Human, Volume 1 (Ajin: Demi-Human #1)  £57.06   \n",
       "997  A Spy's Devotion (The Regency Spies of London #1)  £16.97   \n",
       "998                1st to Die (Women's Murder Club #1)  £53.98   \n",
       "999                 1,000 Places to See Before You Die  £26.08   \n",
       "\n",
       "                         Rate  \n",
       "0    ['star-rating', 'Three']  \n",
       "1      ['star-rating', 'One']  \n",
       "2      ['star-rating', 'One']  \n",
       "3     ['star-rating', 'Four']  \n",
       "4     ['star-rating', 'Five']  \n",
       "..                        ...  \n",
       "995    ['star-rating', 'One']  \n",
       "996   ['star-rating', 'Four']  \n",
       "997   ['star-rating', 'Five']  \n",
       "998    ['star-rating', 'One']  \n",
       "999   ['star-rating', 'Five']  \n",
       "\n",
       "[1000 rows x 3 columns]"
      ]
     },
     "execution_count": 61,
     "metadata": {},
     "output_type": "execute_result"
    }
   ],
   "source": [
    "data=pd.read_csv(\"Books to scrap.csv\")\n",
    "df=pd.DataFrame(data)\n",
    "df"
   ]
  },
  {
   "cell_type": "code",
   "execution_count": 62,
   "id": "a0967735",
   "metadata": {},
   "outputs": [],
   "source": [
    "df.to_excel('Books to scrap.xlsx', index = False)\n"
   ]
  },
  {
   "cell_type": "code",
   "execution_count": null,
   "id": "66d55d78",
   "metadata": {},
   "outputs": [],
   "source": []
  }
 ],
 "metadata": {
  "kernelspec": {
   "display_name": "Python 3 (ipykernel)",
   "language": "python",
   "name": "python3"
  },
  "language_info": {
   "codemirror_mode": {
    "name": "ipython",
    "version": 3
   },
   "file_extension": ".py",
   "mimetype": "text/x-python",
   "name": "python",
   "nbconvert_exporter": "python",
   "pygments_lexer": "ipython3",
   "version": "3.9.12"
  }
 },
 "nbformat": 4,
 "nbformat_minor": 5
}
